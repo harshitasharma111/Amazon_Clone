{
  "nbformat": 4,
  "nbformat_minor": 0,
  "metadata": {
    "colab": {
      "provenance": [],
      "authorship_tag": "ABX9TyPpi/VZXgAAjlgueE0LJI3L",
      "include_colab_link": true
    },
    "kernelspec": {
      "name": "python3",
      "display_name": "Python 3"
    },
    "language_info": {
      "name": "python"
    }
  },
  "cells": [
    {
      "cell_type": "markdown",
      "metadata": {
        "id": "view-in-github",
        "colab_type": "text"
      },
      "source": [
        "<a href=\"https://colab.research.google.com/github/harshitasharma111/Amazon_Clone/blob/main/CapstoneSummerAnalytics.ipynb\" target=\"_parent\"><img src=\"https://colab.research.google.com/assets/colab-badge.svg\" alt=\"Open In Colab\"/></a>"
      ]
    },
    {
      "cell_type": "code",
      "source": [
        "!pip install pathway\n",
        "\n"
      ],
      "metadata": {
        "colab": {
          "base_uri": "https://localhost:8080/"
        },
        "id": "CGGFE8QH00LG",
        "outputId": "07dd0fec-545d-458a-99be-0198c120c49c"
      },
      "execution_count": null,
      "outputs": [
        {
          "output_type": "stream",
          "name": "stdout",
          "text": [
            "Requirement already satisfied: pathway in /usr/local/lib/python3.11/dist-packages (0.24.1)\n",
            "Requirement already satisfied: aiohttp>=3.8.4 in /usr/local/lib/python3.11/dist-packages (from pathway) (3.11.15)\n",
            "Requirement already satisfied: click>=8.1 in /usr/local/lib/python3.11/dist-packages (from pathway) (8.2.1)\n",
            "Requirement already satisfied: geopy>=2.4.0 in /usr/local/lib/python3.11/dist-packages (from pathway) (2.4.1)\n",
            "Requirement already satisfied: h3>=4 in /usr/local/lib/python3.11/dist-packages (from pathway) (4.3.0)\n",
            "Requirement already satisfied: numpy>=1.21 in /usr/local/lib/python3.11/dist-packages (from pathway) (2.0.2)\n",
            "Requirement already satisfied: pandas>=2.1 in /usr/local/lib/python3.11/dist-packages (from pathway) (2.2.2)\n",
            "Requirement already satisfied: scikit-learn>=1.0 in /usr/local/lib/python3.11/dist-packages (from pathway) (1.6.1)\n",
            "Requirement already satisfied: shapely>=2.0.1 in /usr/local/lib/python3.11/dist-packages (from pathway) (2.1.1)\n",
            "Requirement already satisfied: pyarrow<19.0.0,>=10.0.0 in /usr/local/lib/python3.11/dist-packages (from pathway) (18.1.0)\n",
            "Requirement already satisfied: requests>=2.31.0 in /usr/local/lib/python3.11/dist-packages (from pathway) (2.32.3)\n",
            "Requirement already satisfied: python-sat>=0.1.8.dev0 in /usr/local/lib/python3.11/dist-packages (from pathway) (1.8.dev17)\n",
            "Requirement already satisfied: beartype<0.16.0,>=0.14.0 in /usr/local/lib/python3.11/dist-packages (from pathway) (0.15.0)\n",
            "Requirement already satisfied: rich>=12.6.0 in /usr/local/lib/python3.11/dist-packages (from pathway) (13.9.4)\n",
            "Requirement already satisfied: diskcache>=5.2.1 in /usr/local/lib/python3.11/dist-packages (from pathway) (5.6.3)\n",
            "Requirement already satisfied: boto3<1.36.0,>=1.26.76 in /usr/local/lib/python3.11/dist-packages (from pathway) (1.35.93)\n",
            "Requirement already satisfied: aiobotocore==2.17.0 in /usr/local/lib/python3.11/dist-packages (from pathway) (2.17.0)\n",
            "Requirement already satisfied: google-api-python-client>=2.108.0 in /usr/local/lib/python3.11/dist-packages (from pathway) (2.174.0)\n",
            "Requirement already satisfied: typing-extensions>=4.8.0 in /usr/local/lib/python3.11/dist-packages (from pathway) (4.14.0)\n",
            "Requirement already satisfied: panel>=1.3.1 in /usr/local/lib/python3.11/dist-packages (from pathway) (1.7.2)\n",
            "Requirement already satisfied: jupyter-bokeh>=3.0.7 in /usr/local/lib/python3.11/dist-packages (from pathway) (4.0.5)\n",
            "Requirement already satisfied: jmespath>=1.0.1 in /usr/local/lib/python3.11/dist-packages (from pathway) (1.0.1)\n",
            "Requirement already satisfied: aiohttp-cors>=0.7.0 in /usr/local/lib/python3.11/dist-packages (from pathway) (0.8.1)\n",
            "Requirement already satisfied: opentelemetry-api>=1.22.0 in /usr/local/lib/python3.11/dist-packages (from pathway) (1.34.1)\n",
            "Requirement already satisfied: opentelemetry-sdk>=1.22.0 in /usr/local/lib/python3.11/dist-packages (from pathway) (1.34.1)\n",
            "Requirement already satisfied: opentelemetry-exporter-otlp-proto-grpc>=1.22.0 in /usr/local/lib/python3.11/dist-packages (from pathway) (1.34.1)\n",
            "Requirement already satisfied: fs>=2.4.16 in /usr/local/lib/python3.11/dist-packages (from pathway) (2.4.16)\n",
            "Requirement already satisfied: async-lru>=2.0.4 in /usr/local/lib/python3.11/dist-packages (from pathway) (2.0.5)\n",
            "Requirement already satisfied: networkx>=3.2.1 in /usr/local/lib/python3.11/dist-packages (from pathway) (3.5)\n",
            "Requirement already satisfied: google-cloud-pubsub>=2.21.1 in /usr/local/lib/python3.11/dist-packages (from pathway) (2.30.0)\n",
            "Requirement already satisfied: google-cloud-bigquery~=3.29.0 in /usr/local/lib/python3.11/dist-packages (from pathway) (3.29.0)\n",
            "Requirement already satisfied: pydantic~=2.9.0 in /usr/local/lib/python3.11/dist-packages (from pathway) (2.9.2)\n",
            "Requirement already satisfied: gitpython>=3.1.43 in /usr/local/lib/python3.11/dist-packages (from pathway) (3.1.44)\n",
            "Requirement already satisfied: deltalake<0.18.0,>=0.17.0 in /usr/local/lib/python3.11/dist-packages (from pathway) (0.17.4)\n",
            "Requirement already satisfied: aioitertools<1.0.0,>=0.5.1 in /usr/local/lib/python3.11/dist-packages (from aiobotocore==2.17.0->pathway) (0.12.0)\n",
            "Requirement already satisfied: botocore<1.35.94,>=1.35.74 in /usr/local/lib/python3.11/dist-packages (from aiobotocore==2.17.0->pathway) (1.35.93)\n",
            "Requirement already satisfied: python-dateutil<3.0.0,>=2.1 in /usr/local/lib/python3.11/dist-packages (from aiobotocore==2.17.0->pathway) (2.9.0.post0)\n",
            "Requirement already satisfied: multidict<7.0.0,>=6.0.0 in /usr/local/lib/python3.11/dist-packages (from aiobotocore==2.17.0->pathway) (6.6.3)\n",
            "Requirement already satisfied: urllib3!=2.2.0,<3,>=1.25.4 in /usr/local/lib/python3.11/dist-packages (from aiobotocore==2.17.0->pathway) (2.4.0)\n",
            "Requirement already satisfied: wrapt<2.0.0,>=1.10.10 in /usr/local/lib/python3.11/dist-packages (from aiobotocore==2.17.0->pathway) (1.17.2)\n",
            "Requirement already satisfied: aiohappyeyeballs>=2.3.0 in /usr/local/lib/python3.11/dist-packages (from aiohttp>=3.8.4->pathway) (2.6.1)\n",
            "Requirement already satisfied: aiosignal>=1.1.2 in /usr/local/lib/python3.11/dist-packages (from aiohttp>=3.8.4->pathway) (1.3.2)\n",
            "Requirement already satisfied: attrs>=17.3.0 in /usr/local/lib/python3.11/dist-packages (from aiohttp>=3.8.4->pathway) (25.3.0)\n",
            "Requirement already satisfied: frozenlist>=1.1.1 in /usr/local/lib/python3.11/dist-packages (from aiohttp>=3.8.4->pathway) (1.7.0)\n",
            "Requirement already satisfied: propcache>=0.2.0 in /usr/local/lib/python3.11/dist-packages (from aiohttp>=3.8.4->pathway) (0.3.2)\n",
            "Requirement already satisfied: yarl<2.0,>=1.17.0 in /usr/local/lib/python3.11/dist-packages (from aiohttp>=3.8.4->pathway) (1.20.1)\n",
            "Requirement already satisfied: s3transfer<0.11.0,>=0.10.0 in /usr/local/lib/python3.11/dist-packages (from boto3<1.36.0,>=1.26.76->pathway) (0.10.4)\n",
            "Requirement already satisfied: pyarrow-hotfix in /usr/local/lib/python3.11/dist-packages (from deltalake<0.18.0,>=0.17.0->pathway) (0.7)\n",
            "Requirement already satisfied: appdirs~=1.4.3 in /usr/local/lib/python3.11/dist-packages (from fs>=2.4.16->pathway) (1.4.4)\n",
            "Requirement already satisfied: setuptools in /usr/local/lib/python3.11/dist-packages (from fs>=2.4.16->pathway) (75.2.0)\n",
            "Requirement already satisfied: six~=1.10 in /usr/local/lib/python3.11/dist-packages (from fs>=2.4.16->pathway) (1.17.0)\n",
            "Requirement already satisfied: geographiclib<3,>=1.52 in /usr/local/lib/python3.11/dist-packages (from geopy>=2.4.0->pathway) (2.0)\n",
            "Requirement already satisfied: gitdb<5,>=4.0.1 in /usr/local/lib/python3.11/dist-packages (from gitpython>=3.1.43->pathway) (4.0.12)\n",
            "Requirement already satisfied: httplib2<1.0.0,>=0.19.0 in /usr/local/lib/python3.11/dist-packages (from google-api-python-client>=2.108.0->pathway) (0.22.0)\n",
            "Requirement already satisfied: google-auth!=2.24.0,!=2.25.0,<3.0.0,>=1.32.0 in /usr/local/lib/python3.11/dist-packages (from google-api-python-client>=2.108.0->pathway) (2.38.0)\n",
            "Requirement already satisfied: google-auth-httplib2<1.0.0,>=0.2.0 in /usr/local/lib/python3.11/dist-packages (from google-api-python-client>=2.108.0->pathway) (0.2.0)\n",
            "Requirement already satisfied: google-api-core!=2.0.*,!=2.1.*,!=2.2.*,!=2.3.0,<3.0.0,>=1.31.5 in /usr/local/lib/python3.11/dist-packages (from google-api-python-client>=2.108.0->pathway) (2.25.1)\n",
            "Requirement already satisfied: uritemplate<5,>=3.0.1 in /usr/local/lib/python3.11/dist-packages (from google-api-python-client>=2.108.0->pathway) (4.2.0)\n",
            "Requirement already satisfied: google-cloud-core<3.0.0dev,>=2.4.1 in /usr/local/lib/python3.11/dist-packages (from google-cloud-bigquery~=3.29.0->pathway) (2.4.3)\n",
            "Requirement already satisfied: google-resumable-media<3.0dev,>=2.0.0 in /usr/local/lib/python3.11/dist-packages (from google-cloud-bigquery~=3.29.0->pathway) (2.7.2)\n",
            "Requirement already satisfied: packaging>=20.0.0 in /usr/local/lib/python3.11/dist-packages (from google-cloud-bigquery~=3.29.0->pathway) (24.2)\n",
            "Requirement already satisfied: grpcio<2.0.0,>=1.51.3 in /usr/local/lib/python3.11/dist-packages (from google-cloud-pubsub>=2.21.1->pathway) (1.73.1)\n",
            "Requirement already satisfied: proto-plus<2.0.0,>=1.22.0 in /usr/local/lib/python3.11/dist-packages (from google-cloud-pubsub>=2.21.1->pathway) (1.26.1)\n",
            "Requirement already satisfied: protobuf!=4.21.0,!=4.21.1,!=4.21.2,!=4.21.3,!=4.21.4,!=4.21.5,<7.0.0,>=3.20.2 in /usr/local/lib/python3.11/dist-packages (from google-cloud-pubsub>=2.21.1->pathway) (5.29.5)\n",
            "Requirement already satisfied: grpc-google-iam-v1<1.0.0,>=0.12.4 in /usr/local/lib/python3.11/dist-packages (from google-cloud-pubsub>=2.21.1->pathway) (0.14.2)\n",
            "Requirement already satisfied: grpcio-status>=1.33.2 in /usr/local/lib/python3.11/dist-packages (from google-cloud-pubsub>=2.21.1->pathway) (1.71.2)\n",
            "Requirement already satisfied: bokeh==3.* in /usr/local/lib/python3.11/dist-packages (from jupyter-bokeh>=3.0.7->pathway) (3.7.3)\n",
            "Requirement already satisfied: ipywidgets==8.* in /usr/local/lib/python3.11/dist-packages (from jupyter-bokeh>=3.0.7->pathway) (8.1.7)\n",
            "Requirement already satisfied: Jinja2>=2.9 in /usr/local/lib/python3.11/dist-packages (from bokeh==3.*->jupyter-bokeh>=3.0.7->pathway) (3.1.6)\n",
            "Requirement already satisfied: contourpy>=1.2 in /usr/local/lib/python3.11/dist-packages (from bokeh==3.*->jupyter-bokeh>=3.0.7->pathway) (1.3.2)\n",
            "Requirement already satisfied: narwhals>=1.13 in /usr/local/lib/python3.11/dist-packages (from bokeh==3.*->jupyter-bokeh>=3.0.7->pathway) (1.45.0)\n",
            "Requirement already satisfied: pillow>=7.1.0 in /usr/local/lib/python3.11/dist-packages (from bokeh==3.*->jupyter-bokeh>=3.0.7->pathway) (11.2.1)\n",
            "Requirement already satisfied: PyYAML>=3.10 in /usr/local/lib/python3.11/dist-packages (from bokeh==3.*->jupyter-bokeh>=3.0.7->pathway) (6.0.2)\n",
            "Requirement already satisfied: tornado>=6.2 in /usr/local/lib/python3.11/dist-packages (from bokeh==3.*->jupyter-bokeh>=3.0.7->pathway) (6.4.2)\n",
            "Requirement already satisfied: xyzservices>=2021.09.1 in /usr/local/lib/python3.11/dist-packages (from bokeh==3.*->jupyter-bokeh>=3.0.7->pathway) (2025.4.0)\n",
            "Requirement already satisfied: comm>=0.1.3 in /usr/local/lib/python3.11/dist-packages (from ipywidgets==8.*->jupyter-bokeh>=3.0.7->pathway) (0.2.2)\n",
            "Requirement already satisfied: ipython>=6.1.0 in /usr/local/lib/python3.11/dist-packages (from ipywidgets==8.*->jupyter-bokeh>=3.0.7->pathway) (7.34.0)\n",
            "Requirement already satisfied: traitlets>=4.3.1 in /usr/local/lib/python3.11/dist-packages (from ipywidgets==8.*->jupyter-bokeh>=3.0.7->pathway) (5.7.1)\n",
            "Requirement already satisfied: widgetsnbextension~=4.0.14 in /usr/local/lib/python3.11/dist-packages (from ipywidgets==8.*->jupyter-bokeh>=3.0.7->pathway) (4.0.14)\n",
            "Requirement already satisfied: jupyterlab_widgets~=3.0.15 in /usr/local/lib/python3.11/dist-packages (from ipywidgets==8.*->jupyter-bokeh>=3.0.7->pathway) (3.0.15)\n",
            "Requirement already satisfied: importlib-metadata<8.8.0,>=6.0 in /usr/local/lib/python3.11/dist-packages (from opentelemetry-api>=1.22.0->pathway) (8.7.0)\n",
            "Requirement already satisfied: googleapis-common-protos~=1.52 in /usr/local/lib/python3.11/dist-packages (from opentelemetry-exporter-otlp-proto-grpc>=1.22.0->pathway) (1.70.0)\n",
            "Requirement already satisfied: opentelemetry-exporter-otlp-proto-common==1.34.1 in /usr/local/lib/python3.11/dist-packages (from opentelemetry-exporter-otlp-proto-grpc>=1.22.0->pathway) (1.34.1)\n",
            "Requirement already satisfied: opentelemetry-proto==1.34.1 in /usr/local/lib/python3.11/dist-packages (from opentelemetry-exporter-otlp-proto-grpc>=1.22.0->pathway) (1.34.1)\n",
            "Requirement already satisfied: opentelemetry-semantic-conventions==0.55b1 in /usr/local/lib/python3.11/dist-packages (from opentelemetry-sdk>=1.22.0->pathway) (0.55b1)\n",
            "Requirement already satisfied: pytz>=2020.1 in /usr/local/lib/python3.11/dist-packages (from pandas>=2.1->pathway) (2025.2)\n",
            "Requirement already satisfied: tzdata>=2022.7 in /usr/local/lib/python3.11/dist-packages (from pandas>=2.1->pathway) (2025.2)\n",
            "Requirement already satisfied: bleach in /usr/local/lib/python3.11/dist-packages (from panel>=1.3.1->pathway) (6.2.0)\n",
            "Requirement already satisfied: linkify-it-py in /usr/local/lib/python3.11/dist-packages (from panel>=1.3.1->pathway) (2.0.3)\n",
            "Requirement already satisfied: markdown in /usr/local/lib/python3.11/dist-packages (from panel>=1.3.1->pathway) (3.8.2)\n",
            "Requirement already satisfied: markdown-it-py in /usr/local/lib/python3.11/dist-packages (from panel>=1.3.1->pathway) (3.0.0)\n",
            "Requirement already satisfied: mdit-py-plugins in /usr/local/lib/python3.11/dist-packages (from panel>=1.3.1->pathway) (0.4.2)\n",
            "Requirement already satisfied: param<3.0,>=2.1.0 in /usr/local/lib/python3.11/dist-packages (from panel>=1.3.1->pathway) (2.2.1)\n",
            "Requirement already satisfied: pyviz-comms>=2.0.0 in /usr/local/lib/python3.11/dist-packages (from panel>=1.3.1->pathway) (3.0.6)\n",
            "Requirement already satisfied: tqdm in /usr/local/lib/python3.11/dist-packages (from panel>=1.3.1->pathway) (4.67.1)\n",
            "Requirement already satisfied: annotated-types>=0.6.0 in /usr/local/lib/python3.11/dist-packages (from pydantic~=2.9.0->pathway) (0.7.0)\n",
            "Requirement already satisfied: pydantic-core==2.23.4 in /usr/local/lib/python3.11/dist-packages (from pydantic~=2.9.0->pathway) (2.23.4)\n",
            "Requirement already satisfied: charset-normalizer<4,>=2 in /usr/local/lib/python3.11/dist-packages (from requests>=2.31.0->pathway) (3.4.2)\n",
            "Requirement already satisfied: idna<4,>=2.5 in /usr/local/lib/python3.11/dist-packages (from requests>=2.31.0->pathway) (3.10)\n",
            "Requirement already satisfied: certifi>=2017.4.17 in /usr/local/lib/python3.11/dist-packages (from requests>=2.31.0->pathway) (2025.6.15)\n",
            "Requirement already satisfied: pygments<3.0.0,>=2.13.0 in /usr/local/lib/python3.11/dist-packages (from rich>=12.6.0->pathway) (2.19.2)\n",
            "Requirement already satisfied: scipy>=1.6.0 in /usr/local/lib/python3.11/dist-packages (from scikit-learn>=1.0->pathway) (1.15.3)\n",
            "Requirement already satisfied: joblib>=1.2.0 in /usr/local/lib/python3.11/dist-packages (from scikit-learn>=1.0->pathway) (1.5.1)\n",
            "Requirement already satisfied: threadpoolctl>=3.1.0 in /usr/local/lib/python3.11/dist-packages (from scikit-learn>=1.0->pathway) (3.6.0)\n",
            "Requirement already satisfied: smmap<6,>=3.0.1 in /usr/local/lib/python3.11/dist-packages (from gitdb<5,>=4.0.1->gitpython>=3.1.43->pathway) (5.0.2)\n",
            "Requirement already satisfied: cachetools<6.0,>=2.0.0 in /usr/local/lib/python3.11/dist-packages (from google-auth!=2.24.0,!=2.25.0,<3.0.0,>=1.32.0->google-api-python-client>=2.108.0->pathway) (5.5.2)\n",
            "Requirement already satisfied: pyasn1-modules>=0.2.1 in /usr/local/lib/python3.11/dist-packages (from google-auth!=2.24.0,!=2.25.0,<3.0.0,>=1.32.0->google-api-python-client>=2.108.0->pathway) (0.4.2)\n",
            "Requirement already satisfied: rsa<5,>=3.1.4 in /usr/local/lib/python3.11/dist-packages (from google-auth!=2.24.0,!=2.25.0,<3.0.0,>=1.32.0->google-api-python-client>=2.108.0->pathway) (4.9.1)\n",
            "Requirement already satisfied: google-crc32c<2.0dev,>=1.0 in /usr/local/lib/python3.11/dist-packages (from google-resumable-media<3.0dev,>=2.0.0->google-cloud-bigquery~=3.29.0->pathway) (1.7.1)\n",
            "Requirement already satisfied: pyparsing!=3.0.0,!=3.0.1,!=3.0.2,!=3.0.3,<4,>=2.4.2 in /usr/local/lib/python3.11/dist-packages (from httplib2<1.0.0,>=0.19.0->google-api-python-client>=2.108.0->pathway) (3.2.3)\n",
            "Requirement already satisfied: zipp>=3.20 in /usr/local/lib/python3.11/dist-packages (from importlib-metadata<8.8.0,>=6.0->opentelemetry-api>=1.22.0->pathway) (3.23.0)\n",
            "Requirement already satisfied: mdurl~=0.1 in /usr/local/lib/python3.11/dist-packages (from markdown-it-py->panel>=1.3.1->pathway) (0.1.2)\n",
            "Requirement already satisfied: webencodings in /usr/local/lib/python3.11/dist-packages (from bleach->panel>=1.3.1->pathway) (0.5.1)\n",
            "Requirement already satisfied: uc-micro-py in /usr/local/lib/python3.11/dist-packages (from linkify-it-py->panel>=1.3.1->pathway) (1.0.3)\n",
            "Requirement already satisfied: jedi>=0.16 in /usr/local/lib/python3.11/dist-packages (from ipython>=6.1.0->ipywidgets==8.*->jupyter-bokeh>=3.0.7->pathway) (0.19.2)\n",
            "Requirement already satisfied: decorator in /usr/local/lib/python3.11/dist-packages (from ipython>=6.1.0->ipywidgets==8.*->jupyter-bokeh>=3.0.7->pathway) (4.4.2)\n",
            "Requirement already satisfied: pickleshare in /usr/local/lib/python3.11/dist-packages (from ipython>=6.1.0->ipywidgets==8.*->jupyter-bokeh>=3.0.7->pathway) (0.7.5)\n",
            "Requirement already satisfied: prompt-toolkit!=3.0.0,!=3.0.1,<3.1.0,>=2.0.0 in /usr/local/lib/python3.11/dist-packages (from ipython>=6.1.0->ipywidgets==8.*->jupyter-bokeh>=3.0.7->pathway) (3.0.51)\n",
            "Requirement already satisfied: backcall in /usr/local/lib/python3.11/dist-packages (from ipython>=6.1.0->ipywidgets==8.*->jupyter-bokeh>=3.0.7->pathway) (0.2.0)\n",
            "Requirement already satisfied: matplotlib-inline in /usr/local/lib/python3.11/dist-packages (from ipython>=6.1.0->ipywidgets==8.*->jupyter-bokeh>=3.0.7->pathway) (0.1.7)\n",
            "Requirement already satisfied: pexpect>4.3 in /usr/local/lib/python3.11/dist-packages (from ipython>=6.1.0->ipywidgets==8.*->jupyter-bokeh>=3.0.7->pathway) (4.9.0)\n",
            "Requirement already satisfied: MarkupSafe>=2.0 in /usr/local/lib/python3.11/dist-packages (from Jinja2>=2.9->bokeh==3.*->jupyter-bokeh>=3.0.7->pathway) (3.0.2)\n",
            "Requirement already satisfied: pyasn1<0.7.0,>=0.6.1 in /usr/local/lib/python3.11/dist-packages (from pyasn1-modules>=0.2.1->google-auth!=2.24.0,!=2.25.0,<3.0.0,>=1.32.0->google-api-python-client>=2.108.0->pathway) (0.6.1)\n",
            "Requirement already satisfied: parso<0.9.0,>=0.8.4 in /usr/local/lib/python3.11/dist-packages (from jedi>=0.16->ipython>=6.1.0->ipywidgets==8.*->jupyter-bokeh>=3.0.7->pathway) (0.8.4)\n",
            "Requirement already satisfied: ptyprocess>=0.5 in /usr/local/lib/python3.11/dist-packages (from pexpect>4.3->ipython>=6.1.0->ipywidgets==8.*->jupyter-bokeh>=3.0.7->pathway) (0.7.0)\n",
            "Requirement already satisfied: wcwidth in /usr/local/lib/python3.11/dist-packages (from prompt-toolkit!=3.0.0,!=3.0.1,<3.1.0,>=2.0.0->ipython>=6.1.0->ipywidgets==8.*->jupyter-bokeh>=3.0.7->pathway) (0.2.13)\n"
          ]
        }
      ]
    },
    {
      "cell_type": "code",
      "execution_count": null,
      "metadata": {
        "id": "LH0TQqofvOOc"
      },
      "outputs": [],
      "source": [
        "import numpy as np\n",
        "import pandas as pd\n",
        "from bokeh.plotting import figure, show, output_notebook\n",
        "from bokeh.io import push_notebook\n",
        "import pathway as pw"
      ]
    },
    {
      "cell_type": "code",
      "source": [
        "df = pd.read_csv('/content/dataset (1).csv')\n"
      ],
      "metadata": {
        "id": "VYWAZBEs1X3O"
      },
      "execution_count": null,
      "outputs": []
    },
    {
      "cell_type": "code",
      "source": [
        "def preprocess(df):\n",
        "    # Normalize occupancy\n",
        "    df['occupancy_rate'] = df['Occupancy'] / df['Capacity']\n",
        "    # Encode vehicle type\n",
        "    vehicle_map = {'car': 1.0, 'bike': 0.5, 'truck': 1.5}\n",
        "    df['vehicle_type_weight'] = df['VehicleType'].map(vehicle_map)\n",
        "    # Map traffic string values to numeric\n",
        "    traffic_map = {'low': 1.0, 'average': 2.0, 'high': 3.0}\n",
        "    df['traffic'] = df['TrafficConditionNearby'].map(traffic_map)\n",
        "    # Ensure queue length and traffic are numeric\n",
        "    df['queue_length'] = df['QueueLength'].fillna(0).astype(float)\n",
        "    df['traffic'] = df['traffic'].fillna(0).astype(float)  # Use the mapped column here!\n",
        "    df['is_special_day'] = df['IsSpecialDay'].astype(int)\n",
        "\n",
        "    df['LastUpdatedDate'] = df['LastUpdatedDate'].astype(str)\n",
        "    df['LastUpdatedTime'] = df['LastUpdatedTime'].astype(str)\n",
        "\n",
        "    df['full_datetime'] = pd.to_datetime(\n",
        "    df['LastUpdatedDate'] + ' ' + df['LastUpdatedTime'],\n",
        "    dayfirst=True\n",
        "    )\n",
        "\n",
        "    return df\n"
      ],
      "metadata": {
        "id": "IlJNoJ5B8T4Q"
      },
      "execution_count": null,
      "outputs": []
    },
    {
      "cell_type": "code",
      "source": [
        "df = preprocess(df)\n"
      ],
      "metadata": {
        "id": "3x8lcOs3zWup"
      },
      "execution_count": null,
      "outputs": []
    },
    {
      "cell_type": "code",
      "source": [
        "def baseline_linear_price(prev_price, Occupancy, Capacity, alpha=2.0):\n",
        "    # Price increases linearly with occupancy\n",
        "    return prev_price + alpha * (Occupancy / Capacity)\n"
      ],
      "metadata": {
        "id": "rAyib1Y28QkQ"
      },
      "execution_count": null,
      "outputs": []
    },
    {
      "cell_type": "code",
      "source": [
        "def demand_function(row, alpha=1.0, beta=0.5, gamma=0.3, delta=1.0, epsilon=0.8):\n",
        "    # Linear demand function as per problem statement\n",
        "    demand = (\n",
        "        alpha * row['occupancy_rate'] +\n",
        "        beta * row['queue_length'] -\n",
        "        gamma * row['traffic'] +\n",
        "        delta * row['is_special_day'] +\n",
        "        epsilon * row['vehicle_type_weight']\n",
        "    )\n",
        "    return demand"
      ],
      "metadata": {
        "id": "Mixeut7E9Ntr"
      },
      "execution_count": null,
      "outputs": []
    },
    {
      "cell_type": "code",
      "source": [
        "def demand_based_price(base_price, demand, lambda_=0.3):\n",
        "    # Normalize demand to [0, 1] for stability\n",
        "    norm_demand = (demand - demand.min()) / (demand.max() - demand.min() + 1e-6)\n",
        "    price = base_price * (1 + lambda_ * norm_demand)\n",
        "    # Bound price between 0.5x and 2x base price\n",
        "    price = np.clip(price, 0.5 * base_price, 2.0 * base_price)\n",
        "    return price"
      ],
      "metadata": {
        "id": "AOazVjJ09ZdA"
      },
      "execution_count": null,
      "outputs": []
    },
    {
      "cell_type": "code",
      "source": [
        "def haversine(lat1, lon1, lat2, lon2):\n",
        "    # Calculate distance between two lat/lon points (in km)\n",
        "    R = 6371\n",
        "    phi1, phi2 = np.radians(lat1), np.radians(lat2)\n",
        "    dphi = np.radians(lat2 - lat1)\n",
        "    dlambda = np.radians(lon2 - lon1)\n",
        "    a = np.sin(dphi/2)**2 + np.cos(phi1)*np.cos(phi2)*np.sin(dlambda/2)**2\n",
        "    return 2*R*np.arcsin(np.sqrt(a))"
      ],
      "metadata": {
        "id": "hscgRGKT9es6"
      },
      "execution_count": null,
      "outputs": []
    },
    {
      "cell_type": "code",
      "source": [
        "def competitive_price(row, lots_df, base_price, demand_price, radius_km=0.5):\n",
        "    # Find nearby lots\n",
        "    dists = haversine(row['Latitude'], row['Longitude'],\n",
        "                      lots_df['Latitude'], lots_df['Longitude'])\n",
        "    nearby = lots_df[(dists < radius_km) & (lots_df['ID'] != row['ID'])]\n",
        "    if len(nearby) == 0:\n",
        "        return demand_price\n",
        "    # Compare prices\n",
        "    min_competitor_price = nearby['current_price'].min()\n",
        "    # If lot is full and others are cheaper, suggest reroute or lower price\n",
        "    if row['Occupancy'] >= row['Capacity'] and demand_price > min_competitor_price:\n",
        "        return min_competitor_price - 0.5\n",
        "    # If others are more expensive, can increase price\n",
        "    elif demand_price < min_competitor_price:\n",
        "        return min(min_competitor_price - 0.1, 2.0 * base_price)\n",
        "    else:\n",
        "        return demand_price"
      ],
      "metadata": {
        "id": "q9t70Cn-9qVU"
      },
      "execution_count": null,
      "outputs": []
    },
    {
      "cell_type": "code",
      "source": [
        "base_price = 10.0\n",
        "alpha, beta, gamma, delta, epsilon = 1.0, 0.5, 0.3, 1.0, 0.8\n",
        "lambda_ = 0.3\n",
        "\n",
        "df['prev_price'] = base_price\n",
        "df['demand'] = df.apply(lambda row: demand_function(row, alpha, beta, gamma, delta, epsilon), axis=1)\n",
        "df['demand_price'] = demand_based_price(base_price, df['demand'], lambda_)\n"
      ],
      "metadata": {
        "id": "lV43nHxc9xwq"
      },
      "execution_count": null,
      "outputs": []
    },
    {
      "cell_type": "code",
      "source": [
        "# For competitive model, simulate current_price for all lots\n",
        "df['current_price'] = df['demand_price']\n",
        "for idx, row in df.iterrows():\n",
        "    df.at[idx, 'competitive_price'] = competitive_price(row, df, base_price, row['demand_price'])"
      ],
      "metadata": {
        "id": "OqP_kWff962R"
      },
      "execution_count": null,
      "outputs": []
    },
    {
      "cell_type": "code",
      "source": [
        "# Example: Plot price evolution for one parking lot\n",
        "lot_id = df['ID'].unique()[0]\n",
        "lot_df = df[df['ID'] == lot_id].sort_values('full_datetime')\n",
        "\n"
      ],
      "metadata": {
        "id": "LsS4B7rR-u0B"
      },
      "execution_count": null,
      "outputs": []
    },
    {
      "cell_type": "code",
      "source": [
        "from bokeh.plotting import figure, show\n",
        "from bokeh.models import ColumnDataSource\n",
        "\n",
        "\n",
        "source = ColumnDataSource(data={\n",
        "    \"full_datetime\": lot_df['full_datetime'],\n",
        "    \"baseline_price\": lot_df['prev_price'],\n",
        "    \"demand_price\": lot_df['demand_price'],\n",
        "    \"competitive_price\": lot_df['competitive_price'],\n",
        "})\n",
        "\n",
        "\n",
        "\n",
        "def price_plotter(source):\n",
        "    fig = figure(\n",
        "        height=400,\n",
        "        width=800,\n",
        "        title=f\"Daily Parking Price Evolution for Lot {lot_id}\",\n",
        "        x_axis_type=\"datetime\"\n",
        "    )\n",
        "    fig.line(\"full_datetime\", \"baseline_price\", source=source, line_width=2, color=\"blue\", legend_label=\"Baseline\")\n",
        "    fig.line(\"full_datetime\", \"demand_price\", source=source, line_width=2, color=\"green\", legend_label=\"Demand-Based\")\n",
        "    fig.line(\"full_datetime\", \"competitive_price\", source=source, line_width=2, color=\"red\", legend_label=\"Competitive\")\n",
        "    fig.scatter(\"full_datetime\", \"demand_price\", source=source, size=6, color=\"black\", legend_label=\"Demand Points\")\n",
        "    fig.xaxis.axis_label = \"Time\"\n",
        "    fig.yaxis.axis_label = \"Price\"\n",
        "    fig.legend.location = \"top_left\"\n",
        "    return fig\n",
        "\n",
        "p = price_plotter(source)\n",
        "show(p)"
      ],
      "metadata": {
        "colab": {
          "resources": {
            "http://localhost:8080/static/extensions/panel/bundled/datatabulator/tabulator-tables@6.3.1/dist/css/tabulator_simple.min.css": {
              "data": "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",
              "ok": false,
              "headers": [
                [
                  "content-length",
                  "9307"
                ],
                [
                  "content-type",
                  "text/html"
                ]
              ],
              "status": 404,
              "status_text": ""
            },
            "http://localhost:8080/static/extensions/panel/bundled/datatabulator/tabulator-tables@6.3.1/dist/js/tabulator.min.js": {
              "data": "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",
              "ok": false,
              "headers": [
                [
                  "content-length",
                  "9307"
                ],
                [
                  "content-type",
                  "text/html"
                ]
              ],
              "status": 404,
              "status_text": ""
            },
            "http://localhost:8080/static/extensions/panel/bundled/reactiveesm/es-module-shims@%5E1.10.0/dist/es-module-shims.min.js": {
              "data": "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",
              "ok": false,
              "headers": [
                [
                  "content-length",
                  "9307"
                ],
                [
                  "content-type",
                  "text/html"
                ]
              ],
              "status": 404,
              "status_text": ""
            },
            "http://localhost:8080/static/extensions/panel/bundled/datatabulator/luxon/build/global/luxon.min.js": {
              "data": "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",
              "ok": false,
              "headers": [
                [
                  "content-length",
                  "9307"
                ],
                [
                  "content-type",
                  "text/html"
                ]
              ],
              "status": 404,
              "status_text": ""
            }
          },
          "base_uri": "https://localhost:8080/",
          "height": 417
        },
        "id": "wlfkdm-VO-nY",
        "outputId": "e8565547-bd5e-414e-b51c-ae2e5967e374"
      },
      "execution_count": null,
      "outputs": [
        {
          "output_type": "display_data",
          "data": {
            "application/javascript": [
              "'use strict';\n",
              "(function(root) {\n",
              "  function now() {\n",
              "    return new Date();\n",
              "  }\n",
              "\n",
              "  const force = true;\n",
              "\n",
              "  if (typeof root._bokeh_onload_callbacks === \"undefined\" || force === true) {\n",
              "    root._bokeh_onload_callbacks = [];\n",
              "    root._bokeh_is_loading = undefined;\n",
              "  }\n",
              "\n",
              "const JS_MIME_TYPE = 'application/javascript';\n",
              "  const HTML_MIME_TYPE = 'text/html';\n",
              "  const EXEC_MIME_TYPE = 'application/vnd.bokehjs_exec.v0+json';\n",
              "  const CLASS_NAME = 'output_bokeh rendered_html';\n",
              "\n",
              "  /**\n",
              "   * Render data to the DOM node\n",
              "   */\n",
              "  function render(props, node) {\n",
              "    const script = document.createElement(\"script\");\n",
              "    node.appendChild(script);\n",
              "  }\n",
              "\n",
              "  /**\n",
              "   * Handle when an output is cleared or removed\n",
              "   */\n",
              "  function handleClearOutput(event, handle) {\n",
              "    function drop(id) {\n",
              "      const view = Bokeh.index.get_by_id(id)\n",
              "      if (view != null) {\n",
              "        view.model.document.clear()\n",
              "        Bokeh.index.delete(view)\n",
              "      }\n",
              "    }\n",
              "\n",
              "    const cell = handle.cell;\n",
              "\n",
              "    const id = cell.output_area._bokeh_element_id;\n",
              "    const server_id = cell.output_area._bokeh_server_id;\n",
              "\n",
              "    // Clean up Bokeh references\n",
              "    if (id != null) {\n",
              "      drop(id)\n",
              "    }\n",
              "\n",
              "    if (server_id !== undefined) {\n",
              "      // Clean up Bokeh references\n",
              "      const cmd_clean = \"from bokeh.io.state import curstate; print(curstate().uuid_to_server['\" + server_id + \"'].get_sessions()[0].document.roots[0]._id)\";\n",
              "      cell.notebook.kernel.execute(cmd_clean, {\n",
              "        iopub: {\n",
              "          output: function(msg) {\n",
              "            const id = msg.content.text.trim()\n",
              "            drop(id)\n",
              "          }\n",
              "        }\n",
              "      });\n",
              "      // Destroy server and session\n",
              "      const cmd_destroy = \"import bokeh.io.notebook as ion; ion.destroy_server('\" + server_id + \"')\";\n",
              "      cell.notebook.kernel.execute(cmd_destroy);\n",
              "    }\n",
              "  }\n",
              "\n",
              "  /**\n",
              "   * Handle when a new output is added\n",
              "   */\n",
              "  function handleAddOutput(event, handle) {\n",
              "    const output_area = handle.output_area;\n",
              "    const output = handle.output;\n",
              "\n",
              "    // limit handleAddOutput to display_data with EXEC_MIME_TYPE content only\n",
              "    if ((output.output_type != \"display_data\") || (!Object.prototype.hasOwnProperty.call(output.data, EXEC_MIME_TYPE))) {\n",
              "      return\n",
              "    }\n",
              "\n",
              "    const toinsert = output_area.element.find(\".\" + CLASS_NAME.split(' ')[0]);\n",
              "\n",
              "    if (output.metadata[EXEC_MIME_TYPE][\"id\"] !== undefined) {\n",
              "      toinsert[toinsert.length - 1].firstChild.textContent = output.data[JS_MIME_TYPE];\n",
              "      // store reference to embed id on output_area\n",
              "      output_area._bokeh_element_id = output.metadata[EXEC_MIME_TYPE][\"id\"];\n",
              "    }\n",
              "    if (output.metadata[EXEC_MIME_TYPE][\"server_id\"] !== undefined) {\n",
              "      const bk_div = document.createElement(\"div\");\n",
              "      bk_div.innerHTML = output.data[HTML_MIME_TYPE];\n",
              "      const script_attrs = bk_div.children[0].attributes;\n",
              "      for (let i = 0; i < script_attrs.length; i++) {\n",
              "        toinsert[toinsert.length - 1].firstChild.setAttribute(script_attrs[i].name, script_attrs[i].value);\n",
              "        toinsert[toinsert.length - 1].firstChild.textContent = bk_div.children[0].textContent\n",
              "      }\n",
              "      // store reference to server id on output_area\n",
              "      output_area._bokeh_server_id = output.metadata[EXEC_MIME_TYPE][\"server_id\"];\n",
              "    }\n",
              "  }\n",
              "\n",
              "  function register_renderer(events, OutputArea) {\n",
              "\n",
              "    function append_mime(data, metadata, element) {\n",
              "      // create a DOM node to render to\n",
              "      const toinsert = this.create_output_subarea(\n",
              "        metadata,\n",
              "        CLASS_NAME,\n",
              "        EXEC_MIME_TYPE\n",
              "      );\n",
              "      this.keyboard_manager.register_events(toinsert);\n",
              "      // Render to node\n",
              "      const props = {data: data, metadata: metadata[EXEC_MIME_TYPE]};\n",
              "      render(props, toinsert[toinsert.length - 1]);\n",
              "      element.append(toinsert);\n",
              "      return toinsert\n",
              "    }\n",
              "\n",
              "    /* Handle when an output is cleared or removed */\n",
              "    events.on('clear_output.CodeCell', handleClearOutput);\n",
              "    events.on('delete.Cell', handleClearOutput);\n",
              "\n",
              "    /* Handle when a new output is added */\n",
              "    events.on('output_added.OutputArea', handleAddOutput);\n",
              "\n",
              "    /**\n",
              "     * Register the mime type and append_mime function with output_area\n",
              "     */\n",
              "    OutputArea.prototype.register_mime_type(EXEC_MIME_TYPE, append_mime, {\n",
              "      /* Is output safe? */\n",
              "      safe: true,\n",
              "      /* Index of renderer in `output_area.display_order` */\n",
              "      index: 0\n",
              "    });\n",
              "  }\n",
              "\n",
              "  // register the mime type if in Jupyter Notebook environment and previously unregistered\n",
              "  if (root.Jupyter !== undefined) {\n",
              "    const events = require('base/js/events');\n",
              "    const OutputArea = require('notebook/js/outputarea').OutputArea;\n",
              "\n",
              "    if (OutputArea.prototype.mime_types().indexOf(EXEC_MIME_TYPE) == -1) {\n",
              "      register_renderer(events, OutputArea);\n",
              "    }\n",
              "  }\n",
              "  if (typeof (root._bokeh_timeout) === \"undefined\" || force === true) {\n",
              "    root._bokeh_timeout = Date.now() + 5000;\n",
              "    root._bokeh_failed_load = false;\n",
              "  }\n",
              "\n",
              "  const NB_LOAD_WARNING = {'data': {'text/html':\n",
              "     \"<div style='background-color: #fdd'>\\n\"+\n",
              "     \"<p>\\n\"+\n",
              "     \"BokehJS does not appear to have successfully loaded. If loading BokehJS from CDN, this \\n\"+\n",
              "     \"may be due to a slow or bad network connection. Possible fixes:\\n\"+\n",
              "     \"</p>\\n\"+\n",
              "     \"<ul>\\n\"+\n",
              "     \"<li>re-rerun `output_notebook()` to attempt to load from CDN again, or</li>\\n\"+\n",
              "     \"<li>use INLINE resources instead, as so:</li>\\n\"+\n",
              "     \"</ul>\\n\"+\n",
              "     \"<code>\\n\"+\n",
              "     \"from bokeh.resources import INLINE\\n\"+\n",
              "     \"output_notebook(resources=INLINE)\\n\"+\n",
              "     \"</code>\\n\"+\n",
              "     \"</div>\"}};\n",
              "\n",
              "  function display_loaded(error = null) {\n",
              "    const el = document.getElementById(null);\n",
              "    if (el != null) {\n",
              "      const html = (() => {\n",
              "        if (typeof root.Bokeh === \"undefined\") {\n",
              "          if (error == null) {\n",
              "            return \"BokehJS is loading ...\";\n",
              "          } else {\n",
              "            return \"BokehJS failed to load.\";\n",
              "          }\n",
              "        } else {\n",
              "          const prefix = `BokehJS ${root.Bokeh.version}`;\n",
              "          if (error == null) {\n",
              "            return `${prefix} successfully loaded.`;\n",
              "          } else {\n",
              "            return `${prefix} <b>encountered errors</b> while loading and may not function as expected.`;\n",
              "          }\n",
              "        }\n",
              "      })();\n",
              "      el.innerHTML = html;\n",
              "\n",
              "      if (error != null) {\n",
              "        const wrapper = document.createElement(\"div\");\n",
              "        wrapper.style.overflow = \"auto\";\n",
              "        wrapper.style.height = \"5em\";\n",
              "        wrapper.style.resize = \"vertical\";\n",
              "        const content = document.createElement(\"div\");\n",
              "        content.style.fontFamily = \"monospace\";\n",
              "        content.style.whiteSpace = \"pre-wrap\";\n",
              "        content.style.backgroundColor = \"rgb(255, 221, 221)\";\n",
              "        content.textContent = error.stack ?? error.toString();\n",
              "        wrapper.append(content);\n",
              "        el.append(wrapper);\n",
              "      }\n",
              "    } else if (Date.now() < root._bokeh_timeout) {\n",
              "      setTimeout(() => display_loaded(error), 100);\n",
              "    }\n",
              "  }\n",
              "\n",
              "  function run_callbacks() {\n",
              "    try {\n",
              "      root._bokeh_onload_callbacks.forEach(function(callback) {\n",
              "        if (callback != null)\n",
              "          callback();\n",
              "      });\n",
              "    } finally {\n",
              "      delete root._bokeh_onload_callbacks\n",
              "    }\n",
              "    console.debug(\"Bokeh: all callbacks have finished\");\n",
              "  }\n",
              "\n",
              "  function load_libs(css_urls, js_urls, callback) {\n",
              "    if (css_urls == null) css_urls = [];\n",
              "    if (js_urls == null) js_urls = [];\n",
              "\n",
              "    root._bokeh_onload_callbacks.push(callback);\n",
              "    if (root._bokeh_is_loading > 0) {\n",
              "      console.debug(\"Bokeh: BokehJS is being loaded, scheduling callback at\", now());\n",
              "      return null;\n",
              "    }\n",
              "    if (js_urls == null || js_urls.length === 0) {\n",
              "      run_callbacks();\n",
              "      return null;\n",
              "    }\n",
              "    console.debug(\"Bokeh: BokehJS not loaded, scheduling load and callback at\", now());\n",
              "    root._bokeh_is_loading = css_urls.length + js_urls.length;\n",
              "\n",
              "    function on_load() {\n",
              "      root._bokeh_is_loading--;\n",
              "      if (root._bokeh_is_loading === 0) {\n",
              "        console.debug(\"Bokeh: all BokehJS libraries/stylesheets loaded\");\n",
              "        run_callbacks()\n",
              "      }\n",
              "    }\n",
              "\n",
              "    function on_error(url) {\n",
              "      console.error(\"failed to load \" + url);\n",
              "    }\n",
              "\n",
              "    for (let i = 0; i < css_urls.length; i++) {\n",
              "      const url = css_urls[i];\n",
              "      const element = document.createElement(\"link\");\n",
              "      element.onload = on_load;\n",
              "      element.onerror = on_error.bind(null, url);\n",
              "      element.rel = \"stylesheet\";\n",
              "      element.type = \"text/css\";\n",
              "      element.href = url;\n",
              "      console.debug(\"Bokeh: injecting link tag for BokehJS stylesheet: \", url);\n",
              "      document.body.appendChild(element);\n",
              "    }\n",
              "\n",
              "    for (let i = 0; i < js_urls.length; i++) {\n",
              "      const url = js_urls[i];\n",
              "      const element = document.createElement('script');\n",
              "      element.onload = on_load;\n",
              "      element.onerror = on_error.bind(null, url);\n",
              "      element.async = false;\n",
              "      element.src = url;\n",
              "      console.debug(\"Bokeh: injecting script tag for BokehJS library: \", url);\n",
              "      document.head.appendChild(element);\n",
              "    }\n",
              "  };\n",
              "\n",
              "  function inject_raw_css(css) {\n",
              "    const element = document.createElement(\"style\");\n",
              "    element.appendChild(document.createTextNode(css));\n",
              "    document.body.appendChild(element);\n",
              "  }\n",
              "\n",
              "  const js_urls = [\"static/extensions/panel/bundled/reactiveesm/es-module-shims@^1.10.0/dist/es-module-shims.min.js\", \"static/extensions/panel/bundled/datatabulator/tabulator-tables@6.3.1/dist/js/tabulator.min.js\", \"static/extensions/panel/bundled/datatabulator/luxon/build/global/luxon.min.js\", \"https://cdn.bokeh.org/bokeh/release/bokeh-3.7.3.min.js\", \"https://cdn.bokeh.org/bokeh/release/bokeh-gl-3.7.3.min.js\", \"https://cdn.bokeh.org/bokeh/release/bokeh-widgets-3.7.3.min.js\", \"https://cdn.bokeh.org/bokeh/release/bokeh-tables-3.7.3.min.js\", \"https://cdn.bokeh.org/bokeh/release/bokeh-mathjax-3.7.3.min.js\", \"https://unpkg.com/@holoviz/panel@1.7.2/dist/panel.min.js\"];\n",
              "  const css_urls = [\"static/extensions/panel/bundled/datatabulator/tabulator-tables@6.3.1/dist/css/tabulator_simple.min.css\"];\n",
              "\n",
              "  const inline_js = [    function(Bokeh) {\n",
              "      Bokeh.set_log_level(\"info\");\n",
              "    },\n",
              "function(Bokeh) {\n",
              "    }\n",
              "  ];\n",
              "\n",
              "  function run_inline_js() {\n",
              "    if (root.Bokeh !== undefined || force === true) {\n",
              "      try {\n",
              "            for (let i = 0; i < inline_js.length; i++) {\n",
              "      inline_js[i].call(root, root.Bokeh);\n",
              "    }\n",
              "\n",
              "      } catch (error) {throw error;\n",
              "      }} else if (Date.now() < root._bokeh_timeout) {\n",
              "      setTimeout(run_inline_js, 100);\n",
              "    } else if (!root._bokeh_failed_load) {\n",
              "      console.log(\"Bokeh: BokehJS failed to load within specified timeout.\");\n",
              "      root._bokeh_failed_load = true;\n",
              "    } else if (force !== true) {\n",
              "      const cell = $(document.getElementById(null)).parents('.cell').data().cell;\n",
              "      cell.output_area.append_execute_result(NB_LOAD_WARNING)\n",
              "    }\n",
              "  }\n",
              "\n",
              "  if (root._bokeh_is_loading === 0) {\n",
              "    console.debug(\"Bokeh: BokehJS loaded, going straight to plotting\");\n",
              "    run_inline_js();\n",
              "  } else {\n",
              "    load_libs(css_urls, js_urls, function() {\n",
              "      console.debug(\"Bokeh: BokehJS plotting callback run at\", now());\n",
              "      run_inline_js();\n",
              "    });\n",
              "  }\n",
              "}(window));"
            ],
            "application/vnd.bokehjs_load.v0+json": "'use strict';\n(function(root) {\n  function now() {\n    return new Date();\n  }\n\n  const force = true;\n\n  if (typeof root._bokeh_onload_callbacks === \"undefined\" || force === true) {\n    root._bokeh_onload_callbacks = [];\n    root._bokeh_is_loading = undefined;\n  }\n\n\n  if (typeof (root._bokeh_timeout) === \"undefined\" || force === true) {\n    root._bokeh_timeout = Date.now() + 5000;\n    root._bokeh_failed_load = false;\n  }\n\n  const NB_LOAD_WARNING = {'data': {'text/html':\n     \"<div style='background-color: #fdd'>\\n\"+\n     \"<p>\\n\"+\n     \"BokehJS does not appear to have successfully loaded. If loading BokehJS from CDN, this \\n\"+\n     \"may be due to a slow or bad network connection. Possible fixes:\\n\"+\n     \"</p>\\n\"+\n     \"<ul>\\n\"+\n     \"<li>re-rerun `output_notebook()` to attempt to load from CDN again, or</li>\\n\"+\n     \"<li>use INLINE resources instead, as so:</li>\\n\"+\n     \"</ul>\\n\"+\n     \"<code>\\n\"+\n     \"from bokeh.resources import INLINE\\n\"+\n     \"output_notebook(resources=INLINE)\\n\"+\n     \"</code>\\n\"+\n     \"</div>\"}};\n\n  function display_loaded(error = null) {\n    const el = document.getElementById(null);\n    if (el != null) {\n      const html = (() => {\n        if (typeof root.Bokeh === \"undefined\") {\n          if (error == null) {\n            return \"BokehJS is loading ...\";\n          } else {\n            return \"BokehJS failed to load.\";\n          }\n        } else {\n          const prefix = `BokehJS ${root.Bokeh.version}`;\n          if (error == null) {\n            return `${prefix} successfully loaded.`;\n          } else {\n            return `${prefix} <b>encountered errors</b> while loading and may not function as expected.`;\n          }\n        }\n      })();\n      el.innerHTML = html;\n\n      if (error != null) {\n        const wrapper = document.createElement(\"div\");\n        wrapper.style.overflow = \"auto\";\n        wrapper.style.height = \"5em\";\n        wrapper.style.resize = \"vertical\";\n        const content = document.createElement(\"div\");\n        content.style.fontFamily = \"monospace\";\n        content.style.whiteSpace = \"pre-wrap\";\n        content.style.backgroundColor = \"rgb(255, 221, 221)\";\n        content.textContent = error.stack ?? error.toString();\n        wrapper.append(content);\n        el.append(wrapper);\n      }\n    } else if (Date.now() < root._bokeh_timeout) {\n      setTimeout(() => display_loaded(error), 100);\n    }\n  }\n\n  function run_callbacks() {\n    try {\n      root._bokeh_onload_callbacks.forEach(function(callback) {\n        if (callback != null)\n          callback();\n      });\n    } finally {\n      delete root._bokeh_onload_callbacks\n    }\n    console.debug(\"Bokeh: all callbacks have finished\");\n  }\n\n  function load_libs(css_urls, js_urls, callback) {\n    if (css_urls == null) css_urls = [];\n    if (js_urls == null) js_urls = [];\n\n    root._bokeh_onload_callbacks.push(callback);\n    if (root._bokeh_is_loading > 0) {\n      console.debug(\"Bokeh: BokehJS is being loaded, scheduling callback at\", now());\n      return null;\n    }\n    if (js_urls == null || js_urls.length === 0) {\n      run_callbacks();\n      return null;\n    }\n    console.debug(\"Bokeh: BokehJS not loaded, scheduling load and callback at\", now());\n    root._bokeh_is_loading = css_urls.length + js_urls.length;\n\n    function on_load() {\n      root._bokeh_is_loading--;\n      if (root._bokeh_is_loading === 0) {\n        console.debug(\"Bokeh: all BokehJS libraries/stylesheets loaded\");\n        run_callbacks()\n      }\n    }\n\n    function on_error(url) {\n      console.error(\"failed to load \" + url);\n    }\n\n    for (let i = 0; i < css_urls.length; i++) {\n      const url = css_urls[i];\n      const element = document.createElement(\"link\");\n      element.onload = on_load;\n      element.onerror = on_error.bind(null, url);\n      element.rel = \"stylesheet\";\n      element.type = \"text/css\";\n      element.href = url;\n      console.debug(\"Bokeh: injecting link tag for BokehJS stylesheet: \", url);\n      document.body.appendChild(element);\n    }\n\n    for (let i = 0; i < js_urls.length; i++) {\n      const url = js_urls[i];\n      const element = document.createElement('script');\n      element.onload = on_load;\n      element.onerror = on_error.bind(null, url);\n      element.async = false;\n      element.src = url;\n      console.debug(\"Bokeh: injecting script tag for BokehJS library: \", url);\n      document.head.appendChild(element);\n    }\n  };\n\n  function inject_raw_css(css) {\n    const element = document.createElement(\"style\");\n    element.appendChild(document.createTextNode(css));\n    document.body.appendChild(element);\n  }\n\n  const js_urls = [\"static/extensions/panel/bundled/reactiveesm/es-module-shims@^1.10.0/dist/es-module-shims.min.js\", \"static/extensions/panel/bundled/datatabulator/tabulator-tables@6.3.1/dist/js/tabulator.min.js\", \"static/extensions/panel/bundled/datatabulator/luxon/build/global/luxon.min.js\", \"https://cdn.bokeh.org/bokeh/release/bokeh-3.7.3.min.js\", \"https://cdn.bokeh.org/bokeh/release/bokeh-gl-3.7.3.min.js\", \"https://cdn.bokeh.org/bokeh/release/bokeh-widgets-3.7.3.min.js\", \"https://cdn.bokeh.org/bokeh/release/bokeh-tables-3.7.3.min.js\", \"https://cdn.bokeh.org/bokeh/release/bokeh-mathjax-3.7.3.min.js\", \"https://unpkg.com/@holoviz/panel@1.7.2/dist/panel.min.js\"];\n  const css_urls = [\"static/extensions/panel/bundled/datatabulator/tabulator-tables@6.3.1/dist/css/tabulator_simple.min.css\"];\n\n  const inline_js = [    function(Bokeh) {\n      Bokeh.set_log_level(\"info\");\n    },\nfunction(Bokeh) {\n    }\n  ];\n\n  function run_inline_js() {\n    if (root.Bokeh !== undefined || force === true) {\n      try {\n            for (let i = 0; i < inline_js.length; i++) {\n      inline_js[i].call(root, root.Bokeh);\n    }\n\n      } catch (error) {throw error;\n      }} else if (Date.now() < root._bokeh_timeout) {\n      setTimeout(run_inline_js, 100);\n    } else if (!root._bokeh_failed_load) {\n      console.log(\"Bokeh: BokehJS failed to load within specified timeout.\");\n      root._bokeh_failed_load = true;\n    } else if (force !== true) {\n      const cell = $(document.getElementById(null)).parents('.cell').data().cell;\n      cell.output_area.append_execute_result(NB_LOAD_WARNING)\n    }\n  }\n\n  if (root._bokeh_is_loading === 0) {\n    console.debug(\"Bokeh: BokehJS loaded, going straight to plotting\");\n    run_inline_js();\n  } else {\n    load_libs(css_urls, js_urls, function() {\n      console.debug(\"Bokeh: BokehJS plotting callback run at\", now());\n      run_inline_js();\n    });\n  }\n}(window));"
          },
          "metadata": {}
        },
        {
          "output_type": "display_data",
          "data": {
            "text/html": [
              "\n",
              "  <div id=\"e6c13602-ccb7-4818-88e3-9eeeead62b36\" data-root-id=\"a29271e4-1976-4e51-8aa4-c1737b7b0d80\" style=\"display: contents;\"></div>\n"
            ]
          },
          "metadata": {}
        },
        {
          "output_type": "display_data",
          "data": {
            "application/javascript": [
              "(function(root) {\n",
              "  function embed_document(root) {\n",
              "  const docs_json = {\"afd01f61-945c-4010-8e0d-de6bd64e22b4\":{\"version\":\"3.7.3\",\"title\":\"Bokeh Application\",\"roots\":[{\"type\":\"object\",\"name\":\"Figure\",\"id\":\"a29271e4-1976-4e51-8aa4-c1737b7b0d80\",\"attributes\":{\"width\":800,\"height\":400,\"x_range\":{\"type\":\"object\",\"name\":\"DataRange1d\",\"id\":\"bf698876-31a9-47aa-bd44-74e71e915b44\"},\"y_range\":{\"type\":\"object\",\"name\":\"DataRange1d\",\"id\":\"e6c26963-f392-413b-8ba6-9116019018bf\"},\"x_scale\":{\"type\":\"object\",\"name\":\"LinearScale\",\"id\":\"229a18fb-51b6-430e-bb40-871877ad2699\"},\"y_scale\":{\"type\":\"object\",\"name\":\"LinearScale\",\"id\":\"44e2dd21-184c-44b6-b954-c9bbe8eabad3\"},\"title\":{\"type\":\"object\",\"name\":\"Title\",\"id\":\"4deef37a-d1ed-4dc3-87bb-61b963b90919\",\"attributes\":{\"text\":\"Daily Parking Price Evolution for Lot 0\"}},\"renderers\":[{\"type\":\"object\",\"name\":\"GlyphRenderer\",\"id\":\"9ea7a31d-6a1f-4661-bfa6-64b130c92f1a\",\"attributes\":{\"data_source\":{\"type\":\"object\",\"name\":\"ColumnDataSource\",\"id\":\"a474db6e-0d6b-4380-9482-5f135fb656b8\",\"attributes\":{\"selected\":{\"type\":\"object\",\"name\":\"Selection\",\"id\":\"212fbdd9-4258-46e6-99d2-11aa5896c459\",\"attributes\":{\"indices\":[],\"line_indices\":[]}},\"selection_policy\":{\"type\":\"object\",\"name\":\"UnionRenderers\",\"id\":\"11e0a76a-bab3-4ded-87b7-b47717f4f6b6\"},\"data\":{\"type\":\"map\",\"entries\":[[\"full_datetime\",{\"type\":\"ndarray\",\"array\":{\"type\":\"bytes\",\"data\":\"AAAaP+t4dUI=\"},\"shape\":[1],\"dtype\":\"float64\",\"order\":\"little\"}],[\"baseline_price\",{\"type\":\"ndarray\",\"array\":{\"type\":\"bytes\",\"data\":\"AAAAAAAAJEA=\"},\"shape\":[1],\"dtype\":\"float64\",\"order\":\"little\"}],[\"demand_price\",{\"type\":\"ndarray\",\"array\":{\"type\":\"bytes\",\"data\":\"6jFTvESlJEA=\"},\"shape\":[1],\"dtype\":\"float64\",\"order\":\"little\"}],[\"competitive_price\",{\"type\":\"ndarray\",\"array\":{\"type\":\"bytes\",\"data\":\"6jFTvESlJEA=\"},\"shape\":[1],\"dtype\":\"float64\",\"order\":\"little\"}]]}}},\"view\":{\"type\":\"object\",\"name\":\"CDSView\",\"id\":\"bfe2ae26-8bea-48e4-bc7a-ed71ec3c136a\",\"attributes\":{\"filter\":{\"type\":\"object\",\"name\":\"AllIndices\",\"id\":\"5962d12b-fd12-483f-9d18-bd41173d92b9\"}}},\"glyph\":{\"type\":\"object\",\"name\":\"Line\",\"id\":\"ddda3747-b897-43cf-9922-b5886b9a38a7\",\"attributes\":{\"x\":{\"type\":\"field\",\"field\":\"full_datetime\"},\"y\":{\"type\":\"field\",\"field\":\"baseline_price\"},\"line_color\":\"blue\",\"line_width\":2}},\"nonselection_glyph\":{\"type\":\"object\",\"name\":\"Line\",\"id\":\"2d87b423-302b-4c49-9d80-4d83a74f0b4f\",\"attributes\":{\"x\":{\"type\":\"field\",\"field\":\"full_datetime\"},\"y\":{\"type\":\"field\",\"field\":\"baseline_price\"},\"line_color\":\"blue\",\"line_alpha\":0.1,\"line_width\":2}},\"muted_glyph\":{\"type\":\"object\",\"name\":\"Line\",\"id\":\"3faf8491-789d-4c7b-8e7c-06b8c3c49c15\",\"attributes\":{\"x\":{\"type\":\"field\",\"field\":\"full_datetime\"},\"y\":{\"type\":\"field\",\"field\":\"baseline_price\"},\"line_color\":\"blue\",\"line_alpha\":0.2,\"line_width\":2}}}},{\"type\":\"object\",\"name\":\"GlyphRenderer\",\"id\":\"4c4e6153-51e7-403f-97fa-ce45b02766eb\",\"attributes\":{\"data_source\":{\"id\":\"a474db6e-0d6b-4380-9482-5f135fb656b8\"},\"view\":{\"type\":\"object\",\"name\":\"CDSView\",\"id\":\"315adc34-7792-479d-98e0-2c60c2bd3110\",\"attributes\":{\"filter\":{\"type\":\"object\",\"name\":\"AllIndices\",\"id\":\"0604f725-3130-438f-8e15-ed38c00a5e06\"}}},\"glyph\":{\"type\":\"object\",\"name\":\"Line\",\"id\":\"dc828a8c-8c68-4dc1-a67e-f358f9d3ae55\",\"attributes\":{\"x\":{\"type\":\"field\",\"field\":\"full_datetime\"},\"y\":{\"type\":\"field\",\"field\":\"demand_price\"},\"line_color\":\"green\",\"line_width\":2}},\"nonselection_glyph\":{\"type\":\"object\",\"name\":\"Line\",\"id\":\"7f9e86b7-5d73-4b96-a858-ff05019ec362\",\"attributes\":{\"x\":{\"type\":\"field\",\"field\":\"full_datetime\"},\"y\":{\"type\":\"field\",\"field\":\"demand_price\"},\"line_color\":\"green\",\"line_alpha\":0.1,\"line_width\":2}},\"muted_glyph\":{\"type\":\"object\",\"name\":\"Line\",\"id\":\"a9600bb8-f135-4da7-9e08-c22bec335720\",\"attributes\":{\"x\":{\"type\":\"field\",\"field\":\"full_datetime\"},\"y\":{\"type\":\"field\",\"field\":\"demand_price\"},\"line_color\":\"green\",\"line_alpha\":0.2,\"line_width\":2}}}},{\"type\":\"object\",\"name\":\"GlyphRenderer\",\"id\":\"1f959958-a5fc-4edd-b154-ed77a960f69a\",\"attributes\":{\"data_source\":{\"id\":\"a474db6e-0d6b-4380-9482-5f135fb656b8\"},\"view\":{\"type\":\"object\",\"name\":\"CDSView\",\"id\":\"68def287-3ddf-4f7e-84e2-ab4145cbed77\",\"attributes\":{\"filter\":{\"type\":\"object\",\"name\":\"AllIndices\",\"id\":\"587becbd-dc37-4f58-ba4d-d01097562a1a\"}}},\"glyph\":{\"type\":\"object\",\"name\":\"Line\",\"id\":\"1f5a66de-76b0-4a1d-b52d-21b5d9a8127b\",\"attributes\":{\"x\":{\"type\":\"field\",\"field\":\"full_datetime\"},\"y\":{\"type\":\"field\",\"field\":\"competitive_price\"},\"line_color\":\"red\",\"line_width\":2}},\"nonselection_glyph\":{\"type\":\"object\",\"name\":\"Line\",\"id\":\"731338b7-d69e-428c-b3b2-e728e8cc531b\",\"attributes\":{\"x\":{\"type\":\"field\",\"field\":\"full_datetime\"},\"y\":{\"type\":\"field\",\"field\":\"competitive_price\"},\"line_color\":\"red\",\"line_alpha\":0.1,\"line_width\":2}},\"muted_glyph\":{\"type\":\"object\",\"name\":\"Line\",\"id\":\"4c300ef2-e6cd-4b64-b6db-c57ad55cc2f0\",\"attributes\":{\"x\":{\"type\":\"field\",\"field\":\"full_datetime\"},\"y\":{\"type\":\"field\",\"field\":\"competitive_price\"},\"line_color\":\"red\",\"line_alpha\":0.2,\"line_width\":2}}}},{\"type\":\"object\",\"name\":\"GlyphRenderer\",\"id\":\"06a83091-c241-403d-b618-363333681113\",\"attributes\":{\"data_source\":{\"id\":\"a474db6e-0d6b-4380-9482-5f135fb656b8\"},\"view\":{\"type\":\"object\",\"name\":\"CDSView\",\"id\":\"e268484b-cab8-4e1d-ba5f-af446fad81bc\",\"attributes\":{\"filter\":{\"type\":\"object\",\"name\":\"AllIndices\",\"id\":\"d1a84222-7baa-4bc6-b7f7-763d1f6fa94d\"}}},\"glyph\":{\"type\":\"object\",\"name\":\"Scatter\",\"id\":\"af253fa2-97f9-47b0-9513-2e5fed309af0\",\"attributes\":{\"x\":{\"type\":\"field\",\"field\":\"full_datetime\"},\"y\":{\"type\":\"field\",\"field\":\"demand_price\"},\"size\":{\"type\":\"value\",\"value\":6},\"fill_color\":{\"type\":\"value\",\"value\":\"black\"}}},\"nonselection_glyph\":{\"type\":\"object\",\"name\":\"Scatter\",\"id\":\"6f20030a-b190-47a9-a2f6-51069cb4098c\",\"attributes\":{\"x\":{\"type\":\"field\",\"field\":\"full_datetime\"},\"y\":{\"type\":\"field\",\"field\":\"demand_price\"},\"size\":{\"type\":\"value\",\"value\":6},\"line_alpha\":{\"type\":\"value\",\"value\":0.1},\"fill_color\":{\"type\":\"value\",\"value\":\"black\"},\"fill_alpha\":{\"type\":\"value\",\"value\":0.1},\"hatch_alpha\":{\"type\":\"value\",\"value\":0.1}}},\"muted_glyph\":{\"type\":\"object\",\"name\":\"Scatter\",\"id\":\"4de01048-370d-4173-964e-f2b8490f1adc\",\"attributes\":{\"x\":{\"type\":\"field\",\"field\":\"full_datetime\"},\"y\":{\"type\":\"field\",\"field\":\"demand_price\"},\"size\":{\"type\":\"value\",\"value\":6},\"line_alpha\":{\"type\":\"value\",\"value\":0.2},\"fill_color\":{\"type\":\"value\",\"value\":\"black\"},\"fill_alpha\":{\"type\":\"value\",\"value\":0.2},\"hatch_alpha\":{\"type\":\"value\",\"value\":0.2}}}}}],\"toolbar\":{\"type\":\"object\",\"name\":\"Toolbar\",\"id\":\"1dade405-e7e6-466b-a55f-e614596bb182\",\"attributes\":{\"tools\":[{\"type\":\"object\",\"name\":\"PanTool\",\"id\":\"f2c5eb95-0d3e-4f11-be9a-6db885f94a61\"},{\"type\":\"object\",\"name\":\"WheelZoomTool\",\"id\":\"10626598-459d-48ad-82e0-9c8f2b640bcb\",\"attributes\":{\"renderers\":\"auto\"}},{\"type\":\"object\",\"name\":\"BoxZoomTool\",\"id\":\"e47016e9-22ef-4a75-852b-b38433f1aaee\",\"attributes\":{\"dimensions\":\"both\",\"overlay\":{\"type\":\"object\",\"name\":\"BoxAnnotation\",\"id\":\"d05d5491-5c0f-43d1-aa08-dee02df2c776\",\"attributes\":{\"syncable\":false,\"line_color\":\"black\",\"line_alpha\":1.0,\"line_width\":2,\"line_dash\":[4,4],\"fill_color\":\"lightgrey\",\"fill_alpha\":0.5,\"level\":\"overlay\",\"visible\":false,\"left\":{\"type\":\"number\",\"value\":\"nan\"},\"right\":{\"type\":\"number\",\"value\":\"nan\"},\"top\":{\"type\":\"number\",\"value\":\"nan\"},\"bottom\":{\"type\":\"number\",\"value\":\"nan\"},\"left_units\":\"canvas\",\"right_units\":\"canvas\",\"top_units\":\"canvas\",\"bottom_units\":\"canvas\",\"handles\":{\"type\":\"object\",\"name\":\"BoxInteractionHandles\",\"id\":\"f57a6be9-ab52-4122-bb05-df462a19bbaa\",\"attributes\":{\"all\":{\"type\":\"object\",\"name\":\"AreaVisuals\",\"id\":\"54c3ca15-1edb-477e-b093-711bdd972984\",\"attributes\":{\"fill_color\":\"white\",\"hover_fill_color\":\"lightgray\"}}}}}}}},{\"type\":\"object\",\"name\":\"SaveTool\",\"id\":\"8f11c304-4bbb-468a-8af7-4e6d01a2b0a1\"},{\"type\":\"object\",\"name\":\"ResetTool\",\"id\":\"f53a58b6-9f9d-486e-aa77-f9f0c026d025\"},{\"type\":\"object\",\"name\":\"HelpTool\",\"id\":\"41a4e10b-2d93-40a8-bcd9-15094f4e8fc1\"}]}},\"left\":[{\"type\":\"object\",\"name\":\"LinearAxis\",\"id\":\"74935969-4f72-4829-b680-daac21990721\",\"attributes\":{\"ticker\":{\"type\":\"object\",\"name\":\"BasicTicker\",\"id\":\"defd7286-6e75-4529-bc4e-74d8e42175de\",\"attributes\":{\"mantissas\":[1,2,5]}},\"formatter\":{\"type\":\"object\",\"name\":\"BasicTickFormatter\",\"id\":\"da536b91-b7bd-4578-9513-fed4cd5e3870\"},\"axis_label\":\"Price\",\"major_label_policy\":{\"type\":\"object\",\"name\":\"AllLabels\",\"id\":\"c2e9c047-eada-4259-bf1a-7d6ca8b50e88\"}}}],\"below\":[{\"type\":\"object\",\"name\":\"DatetimeAxis\",\"id\":\"fceebacd-9342-4ff4-9b25-1fec9d369ab0\",\"attributes\":{\"ticker\":{\"type\":\"object\",\"name\":\"DatetimeTicker\",\"id\":\"77fea722-746f-4604-8435-cc285d94a16f\",\"attributes\":{\"num_minor_ticks\":5,\"tickers\":[{\"type\":\"object\",\"name\":\"AdaptiveTicker\",\"id\":\"57441baf-c071-4844-a110-96bcbfebb65b\",\"attributes\":{\"num_minor_ticks\":0,\"mantissas\":[1,2,5],\"max_interval\":500.0}},{\"type\":\"object\",\"name\":\"AdaptiveTicker\",\"id\":\"fa1d0be4-68a8-455d-b040-e8114d09cb4a\",\"attributes\":{\"num_minor_ticks\":0,\"base\":60,\"mantissas\":[1,2,5,10,15,20,30],\"min_interval\":1000.0,\"max_interval\":1800000.0}},{\"type\":\"object\",\"name\":\"AdaptiveTicker\",\"id\":\"86aaca6e-7202-4d63-a161-68dd9e3fc02d\",\"attributes\":{\"num_minor_ticks\":0,\"base\":24,\"mantissas\":[1,2,4,6,8,12],\"min_interval\":3600000.0,\"max_interval\":43200000.0}},{\"type\":\"object\",\"name\":\"DaysTicker\",\"id\":\"dbef8e40-527c-49ec-95f3-5b62101bf910\",\"attributes\":{\"days\":[1,2,3,4,5,6,7,8,9,10,11,12,13,14,15,16,17,18,19,20,21,22,23,24,25,26,27,28,29,30,31]}},{\"type\":\"object\",\"name\":\"DaysTicker\",\"id\":\"c6e5920a-d5d0-4cc5-a23d-dacaf9f4f40d\",\"attributes\":{\"days\":[1,4,7,10,13,16,19,22,25,28]}},{\"type\":\"object\",\"name\":\"DaysTicker\",\"id\":\"0fd78a2b-11b1-4f7a-99bc-6dfb6b5f05c3\",\"attributes\":{\"days\":[1,8,15,22]}},{\"type\":\"object\",\"name\":\"DaysTicker\",\"id\":\"e950dc35-733d-447c-afa1-6fa74df7a9c2\",\"attributes\":{\"days\":[1,15]}},{\"type\":\"object\",\"name\":\"MonthsTicker\",\"id\":\"1311646d-97c9-4e15-bee9-ceafce8194f5\",\"attributes\":{\"months\":[0,1,2,3,4,5,6,7,8,9,10,11]}},{\"type\":\"object\",\"name\":\"MonthsTicker\",\"id\":\"e6b1912b-e2d3-446b-bd87-6a0cfeaa9767\",\"attributes\":{\"months\":[0,2,4,6,8,10]}},{\"type\":\"object\",\"name\":\"MonthsTicker\",\"id\":\"23810470-fa3f-43c3-9d53-d12dace01e33\",\"attributes\":{\"months\":[0,4,8]}},{\"type\":\"object\",\"name\":\"MonthsTicker\",\"id\":\"d822200d-7f33-4e6c-bfd7-f4a6636b13a6\",\"attributes\":{\"months\":[0,6]}},{\"type\":\"object\",\"name\":\"YearsTicker\",\"id\":\"18dba43a-0417-4b2e-a659-029b9d58b8fa\"}]}},\"formatter\":{\"type\":\"object\",\"name\":\"DatetimeTickFormatter\",\"id\":\"c22e8f21-d3c0-46be-a5b3-023ed38d6d32\",\"attributes\":{\"seconds\":\"%T\",\"minsec\":\"%T\",\"minutes\":\"%H:%M\",\"hours\":\"%H:%M\",\"days\":\"%b %d\",\"months\":\"%b %Y\",\"strip_leading_zeros\":[\"microseconds\",\"milliseconds\",\"seconds\"],\"boundary_scaling\":false,\"context\":{\"type\":\"object\",\"name\":\"DatetimeTickFormatter\",\"id\":\"5795489e-3bcd-4a1f-ac21-c857002a3e86\",\"attributes\":{\"microseconds\":\"%T\",\"milliseconds\":\"%T\",\"seconds\":\"%b %d, %Y\",\"minsec\":\"%b %d, %Y\",\"minutes\":\"%b %d, %Y\",\"hourmin\":\"%b %d, %Y\",\"hours\":\"%b %d, %Y\",\"days\":\"%Y\",\"months\":\"\",\"years\":\"\",\"boundary_scaling\":false,\"hide_repeats\":true,\"context\":{\"type\":\"object\",\"name\":\"DatetimeTickFormatter\",\"id\":\"ab64e10c-d409-4592-9190-f3f7beec8644\",\"attributes\":{\"microseconds\":\"%b %d, %Y\",\"milliseconds\":\"%b %d, %Y\",\"seconds\":\"\",\"minsec\":\"\",\"minutes\":\"\",\"hourmin\":\"\",\"hours\":\"\",\"days\":\"\",\"months\":\"\",\"years\":\"\",\"boundary_scaling\":false,\"hide_repeats\":true}},\"context_which\":\"all\"}},\"context_which\":\"all\"}},\"axis_label\":\"Time\",\"major_label_policy\":{\"type\":\"object\",\"name\":\"AllLabels\",\"id\":\"f7378b71-d42c-468c-9c69-75211a3833f5\"}}}],\"center\":[{\"type\":\"object\",\"name\":\"Grid\",\"id\":\"b383e364-3578-4d0f-9cfe-2297e641891d\",\"attributes\":{\"axis\":{\"id\":\"fceebacd-9342-4ff4-9b25-1fec9d369ab0\"}}},{\"type\":\"object\",\"name\":\"Grid\",\"id\":\"2f73a61a-e232-4b17-8686-32161014cc7f\",\"attributes\":{\"dimension\":1,\"axis\":{\"id\":\"74935969-4f72-4829-b680-daac21990721\"}}},{\"type\":\"object\",\"name\":\"Legend\",\"id\":\"a8a0acaf-0f4a-43ce-8630-1556b0b67c4f\",\"attributes\":{\"location\":\"top_left\",\"items\":[{\"type\":\"object\",\"name\":\"LegendItem\",\"id\":\"d7a55532-efca-439e-8d02-de4ad02f0078\",\"attributes\":{\"label\":{\"type\":\"value\",\"value\":\"Baseline\"},\"renderers\":[{\"id\":\"9ea7a31d-6a1f-4661-bfa6-64b130c92f1a\"}]}},{\"type\":\"object\",\"name\":\"LegendItem\",\"id\":\"b2d9d4fb-71d0-43b3-9fb3-09fa62ddac35\",\"attributes\":{\"label\":{\"type\":\"value\",\"value\":\"Demand-Based\"},\"renderers\":[{\"id\":\"4c4e6153-51e7-403f-97fa-ce45b02766eb\"}]}},{\"type\":\"object\",\"name\":\"LegendItem\",\"id\":\"2e1350d9-135f-4c5f-8608-445e3d2413cd\",\"attributes\":{\"label\":{\"type\":\"value\",\"value\":\"Competitive\"},\"renderers\":[{\"id\":\"1f959958-a5fc-4edd-b154-ed77a960f69a\"}]}},{\"type\":\"object\",\"name\":\"LegendItem\",\"id\":\"dd1696dc-b4d7-4db0-92b1-2dc5d71ace71\",\"attributes\":{\"label\":{\"type\":\"value\",\"value\":\"Demand Points\"},\"renderers\":[{\"id\":\"06a83091-c241-403d-b618-363333681113\"}]}}]}}]}}],\"defs\":[{\"type\":\"model\",\"name\":\"ReactiveHTML1\"},{\"type\":\"model\",\"name\":\"FlexBox1\",\"properties\":[{\"name\":\"align_content\",\"kind\":\"Any\",\"default\":\"flex-start\"},{\"name\":\"align_items\",\"kind\":\"Any\",\"default\":\"flex-start\"},{\"name\":\"flex_direction\",\"kind\":\"Any\",\"default\":\"row\"},{\"name\":\"flex_wrap\",\"kind\":\"Any\",\"default\":\"wrap\"},{\"name\":\"gap\",\"kind\":\"Any\",\"default\":\"\"},{\"name\":\"justify_content\",\"kind\":\"Any\",\"default\":\"flex-start\"}]},{\"type\":\"model\",\"name\":\"FloatPanel1\",\"properties\":[{\"name\":\"config\",\"kind\":\"Any\",\"default\":{\"type\":\"map\"}},{\"name\":\"contained\",\"kind\":\"Any\",\"default\":true},{\"name\":\"position\",\"kind\":\"Any\",\"default\":\"right-top\"},{\"name\":\"offsetx\",\"kind\":\"Any\",\"default\":null},{\"name\":\"offsety\",\"kind\":\"Any\",\"default\":null},{\"name\":\"theme\",\"kind\":\"Any\",\"default\":\"primary\"},{\"name\":\"status\",\"kind\":\"Any\",\"default\":\"normalized\"}]},{\"type\":\"model\",\"name\":\"GridStack1\",\"properties\":[{\"name\":\"ncols\",\"kind\":\"Any\",\"default\":null},{\"name\":\"nrows\",\"kind\":\"Any\",\"default\":null},{\"name\":\"allow_resize\",\"kind\":\"Any\",\"default\":true},{\"name\":\"allow_drag\",\"kind\":\"Any\",\"default\":true},{\"name\":\"state\",\"kind\":\"Any\",\"default\":[]}]},{\"type\":\"model\",\"name\":\"drag1\",\"properties\":[{\"name\":\"slider_width\",\"kind\":\"Any\",\"default\":5},{\"name\":\"slider_color\",\"kind\":\"Any\",\"default\":\"black\"},{\"name\":\"value\",\"kind\":\"Any\",\"default\":50}]},{\"type\":\"model\",\"name\":\"click1\",\"properties\":[{\"name\":\"terminal_output\",\"kind\":\"Any\",\"default\":\"\"},{\"name\":\"debug_name\",\"kind\":\"Any\",\"default\":\"\"},{\"name\":\"clears\",\"kind\":\"Any\",\"default\":0}]},{\"type\":\"model\",\"name\":\"ReactiveESM1\",\"properties\":[{\"name\":\"esm_constants\",\"kind\":\"Any\",\"default\":{\"type\":\"map\"}}]},{\"type\":\"model\",\"name\":\"JSComponent1\",\"properties\":[{\"name\":\"esm_constants\",\"kind\":\"Any\",\"default\":{\"type\":\"map\"}}]},{\"type\":\"model\",\"name\":\"ReactComponent1\",\"properties\":[{\"name\":\"use_shadow_dom\",\"kind\":\"Any\",\"default\":true},{\"name\":\"esm_constants\",\"kind\":\"Any\",\"default\":{\"type\":\"map\"}}]},{\"type\":\"model\",\"name\":\"AnyWidgetComponent1\",\"properties\":[{\"name\":\"use_shadow_dom\",\"kind\":\"Any\",\"default\":true},{\"name\":\"esm_constants\",\"kind\":\"Any\",\"default\":{\"type\":\"map\"}}]},{\"type\":\"model\",\"name\":\"FastWrapper1\",\"properties\":[{\"name\":\"object\",\"kind\":\"Any\",\"default\":null},{\"name\":\"style\",\"kind\":\"Any\",\"default\":null}]},{\"type\":\"model\",\"name\":\"NotificationArea1\",\"properties\":[{\"name\":\"js_events\",\"kind\":\"Any\",\"default\":{\"type\":\"map\"}},{\"name\":\"max_notifications\",\"kind\":\"Any\",\"default\":5},{\"name\":\"notifications\",\"kind\":\"Any\",\"default\":[]},{\"name\":\"position\",\"kind\":\"Any\",\"default\":\"bottom-right\"},{\"name\":\"_clear\",\"kind\":\"Any\",\"default\":0},{\"name\":\"types\",\"kind\":\"Any\",\"default\":[{\"type\":\"map\",\"entries\":[[\"type\",\"warning\"],[\"background\",\"#ffc107\"],[\"icon\",{\"type\":\"map\",\"entries\":[[\"className\",\"fas fa-exclamation-triangle\"],[\"tagName\",\"i\"],[\"color\",\"white\"]]}]]},{\"type\":\"map\",\"entries\":[[\"type\",\"info\"],[\"background\",\"#007bff\"],[\"icon\",{\"type\":\"map\",\"entries\":[[\"className\",\"fas fa-info-circle\"],[\"tagName\",\"i\"],[\"color\",\"white\"]]}]]}]}]},{\"type\":\"model\",\"name\":\"Notification\",\"properties\":[{\"name\":\"background\",\"kind\":\"Any\",\"default\":null},{\"name\":\"duration\",\"kind\":\"Any\",\"default\":3000},{\"name\":\"icon\",\"kind\":\"Any\",\"default\":null},{\"name\":\"message\",\"kind\":\"Any\",\"default\":\"\"},{\"name\":\"notification_type\",\"kind\":\"Any\",\"default\":null},{\"name\":\"_rendered\",\"kind\":\"Any\",\"default\":false},{\"name\":\"_destroyed\",\"kind\":\"Any\",\"default\":false}]},{\"type\":\"model\",\"name\":\"TemplateActions1\",\"properties\":[{\"name\":\"open_modal\",\"kind\":\"Any\",\"default\":0},{\"name\":\"close_modal\",\"kind\":\"Any\",\"default\":0}]},{\"type\":\"model\",\"name\":\"BootstrapTemplateActions1\",\"properties\":[{\"name\":\"open_modal\",\"kind\":\"Any\",\"default\":0},{\"name\":\"close_modal\",\"kind\":\"Any\",\"default\":0}]},{\"type\":\"model\",\"name\":\"TemplateEditor1\",\"properties\":[{\"name\":\"layout\",\"kind\":\"Any\",\"default\":[]}]},{\"type\":\"model\",\"name\":\"MaterialTemplateActions1\",\"properties\":[{\"name\":\"open_modal\",\"kind\":\"Any\",\"default\":0},{\"name\":\"close_modal\",\"kind\":\"Any\",\"default\":0}]},{\"type\":\"model\",\"name\":\"request_value1\",\"properties\":[{\"name\":\"fill\",\"kind\":\"Any\",\"default\":\"none\"},{\"name\":\"_synced\",\"kind\":\"Any\",\"default\":null},{\"name\":\"_request_sync\",\"kind\":\"Any\",\"default\":0}]}]}};\n",
              "  const render_items = [{\"docid\":\"afd01f61-945c-4010-8e0d-de6bd64e22b4\",\"roots\":{\"a29271e4-1976-4e51-8aa4-c1737b7b0d80\":\"e6c13602-ccb7-4818-88e3-9eeeead62b36\"},\"root_ids\":[\"a29271e4-1976-4e51-8aa4-c1737b7b0d80\"]}];\n",
              "  void root.Bokeh.embed.embed_items_notebook(docs_json, render_items);\n",
              "  }\n",
              "  if (root.Bokeh !== undefined) {\n",
              "    embed_document(root);\n",
              "  } else {\n",
              "    let attempts = 0;\n",
              "    const timer = setInterval(function(root) {\n",
              "      if (root.Bokeh !== undefined) {\n",
              "        clearInterval(timer);\n",
              "        embed_document(root);\n",
              "      } else {\n",
              "        attempts++;\n",
              "        if (attempts > 100) {\n",
              "          clearInterval(timer);\n",
              "          console.log(\"Bokeh: ERROR: Unable to run BokehJS code because BokehJS library is missing\");\n",
              "        }\n",
              "      }\n",
              "    }, 10, root)\n",
              "  }\n",
              "})(window);"
            ],
            "application/vnd.bokehjs_exec.v0+json": ""
          },
          "metadata": {
            "application/vnd.bokehjs_exec.v0+json": {
              "id": "a29271e4-1976-4e51-8aa4-c1737b7b0d80"
            }
          }
        }
      ]
    },
    {
      "cell_type": "code",
      "source": [
        "def suggest_reroute(row, lots_df, radius_km=0.5):\n",
        "    dists = haversine(row['Latitude'], row['Longitude'],\n",
        "                      lots_df['Latitude'], lots_df['Longitude'])\n",
        "    nearby = lots_df[(dists < radius_km) & (lots_df['Occupancy'] < lots_df['Capacity'])]\n",
        "    if len(nearby) > 0:\n",
        "        # Suggest the cheapest available nearby lot\n",
        "        suggestion = nearby.loc[nearby['current_price'].idxmin()]\n",
        "        return suggestion['ID']\n",
        "    return None\n",
        "\n",
        "df['reroute_to'] = df.apply(lambda row: suggest_reroute(row, df), axis=1)"
      ],
      "metadata": {
        "id": "2v6h3o1tBY-m"
      },
      "execution_count": null,
      "outputs": []
    }
  ]
}